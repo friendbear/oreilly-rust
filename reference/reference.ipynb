{
 "cells": [
  {
   "cell_type": "markdown",
   "id": "46089f23-b967-46ca-abfe-ae796f5f6ea5",
   "metadata": {},
   "source": [
    "## 参照"
   ]
  },
  {
   "cell_type": "code",
   "execution_count": 18,
   "id": "269316d2-fa7f-495b-9cec-62bd3b241601",
   "metadata": {},
   "outputs": [],
   "source": [
    ":dep uuid = { version = \"0.8\", features = [\"serde\", \"v4\"] }"
   ]
  },
  {
   "cell_type": "code",
   "execution_count": 19,
   "id": "6147a79a-3bb1-4946-bbde-bd2e4e54e039",
   "metadata": {},
   "outputs": [],
   "source": [
    "use uuid::Uuid;"
   ]
  },
  {
   "cell_type": "code",
   "execution_count": 21,
   "id": "304fec13-b9fd-4c3b-a4d5-00fabd73330b",
   "metadata": {},
   "outputs": [
    {
     "name": "stdout",
     "output_type": "stream",
     "text": [
      "07fce5e5-504e-4d59-b7a2-8cda54280c88\n",
      "2d4f6bff-913d-4ff6-8764-4d2bc016ea68\n",
      "af91f29c-5089-4d35-a280-cd6841a084d1\n",
      "748cd282-25be-46ad-8790-008888183abb\n",
      "dbe1cbee-024e-4bf9-b394-7b3d9535fb2a\n",
      "6d5692d9-be93-4fed-afa8-ecdb10019dd2\n",
      "02e2f957-9776-4b68-b74f-41bc4f5b9349\n",
      "3eaf0047-f0bb-4ccb-b0da-a0113fbd6c37\n",
      "3b2dcbd2-f58e-4f20-9814-6a0b715cd842\n",
      "e3ec305b-1dcc-4ed8-95ef-1b436c9eaaca\n"
     ]
    },
    {
     "data": {
      "text/plain": [
       "()"
      ]
     },
     "execution_count": 21,
     "metadata": {},
     "output_type": "execute_result"
    }
   ],
   "source": [
    "for _ in 0..10 {\n",
    "  println!(\"{}\", Uuid::new_v4());\n",
    "}"
   ]
  },
  {
   "cell_type": "code",
   "execution_count": 23,
   "id": "4b1fef41-518a-4115-8654-f8367bc7e92c",
   "metadata": {},
   "outputs": [
    {
     "data": {
      "text/html": [
       "<table><tr><th>Variable</th><th>Type</th></tr></table>"
      ],
      "text/plain": []
     },
     "execution_count": 23,
     "metadata": {},
     "output_type": "execute_result"
    }
   ],
   "source": [
    ":vars"
   ]
  },
  {
   "cell_type": "code",
   "execution_count": null,
   "id": "dfc90ea2-1612-414e-a676-90eaf89b7a07",
   "metadata": {},
   "outputs": [],
   "source": []
  }
 ],
 "metadata": {
  "kernelspec": {
   "display_name": "Rust",
   "language": "rust",
   "name": "rust"
  },
  "language_info": {
   "codemirror_mode": "rust",
   "file_extension": ".rs",
   "mimetype": "text/rust",
   "name": "Rust",
   "pygment_lexer": "rust",
   "version": ""
  }
 },
 "nbformat": 4,
 "nbformat_minor": 5
}
